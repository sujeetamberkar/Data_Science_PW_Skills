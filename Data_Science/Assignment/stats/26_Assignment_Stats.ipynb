{
 "cells": [
  {
   "cell_type": "code",
   "execution_count": 2,
   "id": "f26296c1-e26c-4c14-b48c-df3909e0d9b9",
   "metadata": {},
   "outputs": [
    {
     "data": {
      "text/plain": [
       "'\\nStatistics is a branch of mathematics that involves collection, analysis, interpretation, presentation, and\\norganization of data. It helps in understanding and addressing uncertainty.\\n'"
      ]
     },
     "execution_count": 2,
     "metadata": {},
     "output_type": "execute_result"
    }
   ],
   "source": [
    "# Q1) What is Statistics?\n",
    "\"\"\"\n",
    "Statistics is a branch of mathematics that involves collection, analysis, interpretation, presentation, and\n",
    "organization of data. It helps in understanding and addressing uncertainty.\n",
    "\"\"\""
   ]
  },
  {
   "cell_type": "code",
   "execution_count": 3,
   "id": "ec487b24-d9af-412f-a906-e6048cc6cdd7",
   "metadata": {},
   "outputs": [
    {
     "data": {
      "text/plain": [
       "'\\nDescriptive Statistics: This type summarizes or describes the characteristics of a data set. Example: Calculating the average\\n                        height of students in a classroom.\\nInferential Statistics: This type uses a random sample of data taken from a population to describe and make inferences about the                           population. Example: Conducting a political poll to predict which candidate will win an election.\\n'"
      ]
     },
     "execution_count": 3,
     "metadata": {},
     "output_type": "execute_result"
    }
   ],
   "source": [
    "# Q2) Define the different types of statistics and give an example of when each type might be used.\n",
    "\n",
    "\"\"\"\n",
    "Descriptive Statistics: This type summarizes or describes the characteristics of a data set. Example: Calculating the average\n",
    "                        height of students in a classroom.\n",
    "Inferential Statistics: This type uses a random sample of data taken from a population to describe and make inferences about the                           population. Example: Conducting a political poll to predict which candidate will win an election.\n",
    "\"\"\""
   ]
  },
  {
   "cell_type": "code",
   "execution_count": 4,
   "id": "4a2db4d8-d633-44fb-aed5-650f3f38360c",
   "metadata": {},
   "outputs": [
    {
     "data": {
      "text/plain": [
       "'\\nQualitative (Categorical) Data: This type is non-numerical and classified into categories. \\n                                Example: Colour of cars (red, blue,green, etc.)\\n\\nQuantitative (Numerical) Data: This type is numerical and can be counted or measured. \\n                               Example: Heights of people (180 cm, 170 cm, etc.)    \\n'"
      ]
     },
     "execution_count": 4,
     "metadata": {},
     "output_type": "execute_result"
    }
   ],
   "source": [
    "# Q3) What are the different types of data and how do they differ from each other? Provide an example of each type of data.\n",
    "\n",
    "\"\"\"\n",
    "Qualitative (Categorical) Data: This type is non-numerical and classified into categories. \n",
    "                                Example: Colour of cars (red, blue,green, etc.)\n",
    "\n",
    "Quantitative (Numerical) Data: This type is numerical and can be counted or measured. \n",
    "                               Example: Heights of people (180 cm, 170 cm, etc.)    \n",
    "\"\"\""
   ]
  },
  {
   "cell_type": "code",
   "execution_count": 5,
   "id": "eb21195b-087a-415c-8722-9263fdd66858",
   "metadata": {},
   "outputs": [
    {
     "data": {
      "text/plain": [
       "'\\n(i) Grading in exam: A+, A, B+, B, C+, C, D, E\\n    # Qualitative Data\\n(ii) Colour of mangoes: yellow, green, orange, red\\n    # Qualitative Data\\n(iii) Height data of a class: [178.9, 179, 179.5, 176, 177.2, 178.3, 175.8,...]\\n    # Quantitative Data\\n(iv) Number of mangoes exported by a farm: [500, 600, 478, 672, ...]\\n    # Quantitative Data\\n'"
      ]
     },
     "execution_count": 5,
     "metadata": {},
     "output_type": "execute_result"
    }
   ],
   "source": [
    "# Q4. Categorise the following datasets with respect to quantitative and qualitative data types:\n",
    "\n",
    "\"\"\"\n",
    "(i) Grading in exam: A+, A, B+, B, C+, C, D, E\n",
    "    # Qualitative Data\n",
    "(ii) Colour of mangoes: yellow, green, orange, red\n",
    "    # Qualitative Data\n",
    "(iii) Height data of a class: [178.9, 179, 179.5, 176, 177.2, 178.3, 175.8,...]\n",
    "    # Quantitative Data\n",
    "(iv) Number of mangoes exported by a farm: [500, 600, 478, 672, ...]\n",
    "    # Quantitative Data\n",
    "\"\"\""
   ]
  },
  {
   "cell_type": "code",
   "execution_count": 6,
   "id": "cdc30833-8673-4304-9908-12cc26d672c0",
   "metadata": {},
   "outputs": [
    {
     "data": {
      "text/plain": [
       "'\\n1)Nominal: The data can only be categorized. \\n           Example: Gender (Male/Female)\\n2)Ordinal: The data can be categorized and ordered. \\n           Example: Economic status (Low/Middle/High)\\n3)Interval: The data can be ordered, and differences between data points are meaningful. \\n            Example: Temperature in Celsius\\n4)Ratio: The data can be ordered, differences and ratios are meaningful, and there is a true zero point. Example: \\n         Age in years\\n\\n'"
      ]
     },
     "execution_count": 6,
     "metadata": {},
     "output_type": "execute_result"
    }
   ],
   "source": [
    "# Q5) Explain the concept of levels of measurement and give an example of a variable for each level.\n",
    "\"\"\"\n",
    "1)Nominal: The data can only be categorized. \n",
    "           Example: Gender (Male/Female)\n",
    "2)Ordinal: The data can be categorized and ordered. \n",
    "           Example: Economic status (Low/Middle/High)\n",
    "3)Interval: The data can be ordered, and differences between data points are meaningful. \n",
    "            Example: Temperature in Celsius\n",
    "4)Ratio: The data can be ordered, differences and ratios are meaningful, and there is a true zero point. Example: \n",
    "         Age in years\n",
    "\n",
    "\"\"\""
   ]
  },
  {
   "cell_type": "code",
   "execution_count": 7,
   "id": "4107178e-918a-483a-965b-3e2e48478ba6",
   "metadata": {},
   "outputs": [
    {
     "data": {
      "text/plain": [
       "'\\nUnderstanding the level of measurement is important because it dictates the type of statistical analysis that can be \\nperformed on the data. \\nFor example, you can calculate the mean for interval and ratio data, but not for nominal or ordinal data.\\n'"
      ]
     },
     "execution_count": 7,
     "metadata": {},
     "output_type": "execute_result"
    }
   ],
   "source": [
    "# Q6) Why is it important to understand the level of measurement when analyzing data? Provide an example to illustrate your answer.\n",
    "\"\"\"\n",
    "Understanding the level of measurement is important because it dictates the type of statistical analysis that can be \n",
    "performed on the data. \n",
    "For example, you can calculate the mean for interval and ratio data, but not for nominal or ordinal data.\n",
    "\"\"\""
   ]
  },
  {
   "cell_type": "code",
   "execution_count": 8,
   "id": "e8715b24-fd87-428f-9f6c-529e832b7a1f",
   "metadata": {},
   "outputs": [
    {
     "data": {
      "text/plain": [
       "'\\nNominal data type is different from ordinal data type as nominal data can only be categorized and not ordered \\nwhile ordinal data can be both categorized and ordered based on certain criteria.\\n'"
      ]
     },
     "execution_count": 8,
     "metadata": {},
     "output_type": "execute_result"
    }
   ],
   "source": [
    "# Q7) How nominal data type is different from ordinal data type.\n",
    "\"\"\"\n",
    "Nominal data type is different from ordinal data type as nominal data can only be categorized and not ordered \n",
    "while ordinal data can be both categorized and ordered based on certain criteria.\n",
    "\"\"\""
   ]
  },
  {
   "cell_type": "code",
   "execution_count": 9,
   "id": "1821a67f-a54c-41f3-a6b3-401d4fcd367f",
   "metadata": {},
   "outputs": [
    {
     "data": {
      "text/plain": [
       "'\\nBox plots can be used to display data in terms of range. \\nThey show the median, quartiles, and potential outliers in a dataset.\\n'"
      ]
     },
     "execution_count": 9,
     "metadata": {},
     "output_type": "execute_result"
    }
   ],
   "source": [
    "# Q8) Which type of plot can be used to display data in terms of range?\n",
    "\"\"\"\n",
    "Box plots can be used to display data in terms of range. \n",
    "They show the median, quartiles, and potential outliers in a dataset.\n",
    "\"\"\""
   ]
  },
  {
   "cell_type": "code",
   "execution_count": 10,
   "id": "93beb015-1e78-4d7b-aa58-9810019a14af",
   "metadata": {},
   "outputs": [
    {
     "data": {
      "text/plain": [
       "'\\nDescriptive statistics summarize a dataset (mean, median, mode) while inferential statistics make predictions or inferences \\nabout a larger population from a sample. \\nExample: \\n    Descriptive - Computing average test scores in a class. \\n    Inferential - Predicting the outcome of an election based on a sample poll.\\n'"
      ]
     },
     "execution_count": 10,
     "metadata": {},
     "output_type": "execute_result"
    }
   ],
   "source": [
    "# Q9) Describe the difference between descriptive and inferential statistics. Give an example of each\n",
    "#     type of statistics and explain how they are used.\n",
    "\"\"\"\n",
    "Descriptive statistics summarize a dataset (mean, median, mode) while inferential statistics make predictions or inferences \n",
    "about a larger population from a sample. \n",
    "Example: \n",
    "    Descriptive - Computing average test scores in a class. \n",
    "    Inferential - Predicting the outcome of an election based on a sample poll.\n",
    "\"\"\""
   ]
  },
  {
   "cell_type": "code",
   "execution_count": 11,
   "id": "8fb5583e-0543-4965-934a-7a356924415b",
   "metadata": {},
   "outputs": [
    {
     "data": {
      "text/plain": [
       "'\\nMeasures of Central Tendency: Mean, Median, and Mode. \\nThese measures describe the central position of a distribution for a data set.\\n\\nMeasures of Variability: Range, Interquartile range, Variance, and Standard deviation. \\nThese measures provide information about the spread or dispersion of the data set.\\n'"
      ]
     },
     "execution_count": 11,
     "metadata": {},
     "output_type": "execute_result"
    }
   ],
   "source": [
    "# Q10) What are some common measures of central tendency and variability used in statistics? \n",
    "#      Explain how each measure can be used to describe a dataset.\n",
    "\n",
    "\"\"\"\n",
    "Measures of Central Tendency: Mean, Median, and Mode. \n",
    "These measures describe the central position of a distribution for a data set.\n",
    "\n",
    "Measures of Variability: Range, Interquartile range, Variance, and Standard deviation. \n",
    "These measures provide information about the spread or dispersion of the data set.\n",
    "\"\"\""
   ]
  }
 ],
 "metadata": {
  "kernelspec": {
   "display_name": "Python 3 (ipykernel)",
   "language": "python",
   "name": "python3"
  },
  "language_info": {
   "codemirror_mode": {
    "name": "ipython",
    "version": 3
   },
   "file_extension": ".py",
   "mimetype": "text/x-python",
   "name": "python",
   "nbconvert_exporter": "python",
   "pygments_lexer": "ipython3",
   "version": "3.10.8"
  }
 },
 "nbformat": 4,
 "nbformat_minor": 5
}

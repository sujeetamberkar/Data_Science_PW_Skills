{
 "cells": [
  {
   "cell_type": "code",
   "execution_count": 1,
   "id": "fb2a9b67-9ecc-4692-b2a4-491ff832bc36",
   "metadata": {},
   "outputs": [],
   "source": [
    "# Q1. What are the three measures of central tendency?\n",
    "\"\"\"\n",
    "    i)Mean\n",
    "    ii)Median\n",
    "    iii)Mode\n",
    "\"\"\""
   ]
  },
  {
   "cell_type": "code",
   "execution_count": 2,
   "id": "10b8dc27-121c-40c2-bd73-37eec987cab0",
   "metadata": {},
   "outputs": [
    {
     "data": {
      "text/plain": [
       "\"\\n    Mean: It's the average of the dataset obtained by dividing the sum of all data points by the total number of data points.\\n    Median: It's the middle value in an ordered set of data points.\\n    Mode: It's the most frequently occurring value in a dataset.\\n\""
      ]
     },
     "execution_count": 2,
     "metadata": {},
     "output_type": "execute_result"
    }
   ],
   "source": [
    "# Q2. The differences between mean, median, and mode are:\n",
    "\n",
    "\"\"\"\n",
    "    Mean: It's the average of the dataset obtained by dividing the sum of all data points by the total number of data points.\n",
    "    Median: It's the middle value in an ordered set of data points.\n",
    "    Mode: It's the most frequently occurring value in a dataset.\n",
    "\"\"\""
   ]
  },
  {
   "cell_type": "code",
   "execution_count": 5,
   "id": "2ad46174-2124-4e2c-8d5c-6aba54cba35a",
   "metadata": {},
   "outputs": [
    {
     "name": "stdout",
     "output_type": "stream",
     "text": [
      "Mean: 177.01875\n",
      "Median: 177.0\n",
      "Mode: 178\n"
     ]
    }
   ],
   "source": [
    "# Q3. Measure the three measures of central tendency for the given height data:\n",
    "# [178,177,176,177,178.2,178,175,179,180,175,178.9,176.2,177,172.5,178,176.5]\n",
    "\n",
    "from statistics import mean, median, mode\n",
    "\n",
    "data = [178, 177, 176, 177, 178.2, 178, 175, 179, 180, 175, 178.9, 176.2, 177, 172.5, 178, 176.5]\n",
    "\n",
    "mean_value = mean(data)\n",
    "median_value = median(data)\n",
    "mode_value = mode(data)\n",
    "\n",
    "print(\"Mean:\", mean_value)\n",
    "print(\"Median:\", median_value)\n",
    "print(\"Mode:\", mode_value)\n"
   ]
  },
  {
   "cell_type": "code",
   "execution_count": 6,
   "id": "72740457-b21b-4bc8-a1bc-9439e09643cf",
   "metadata": {},
   "outputs": [
    {
     "name": "stdout",
     "output_type": "stream",
     "text": [
      "Standard Deviation: 1.8472389305844188\n"
     ]
    }
   ],
   "source": [
    "# Q4) Find the standard deviation for the given data:\n",
    "# [178,177,176,177,178.2,178,175,179,180,175,178.9,176.2,177,172.5,178,176.5]\n",
    "import statistics\n",
    "data = [178, 177, 176, 177, 178.2, 178, 175, 179, 180, 175, 178.9, 176.2, 177, 172.5, 178, 176.5]\n",
    "standard_deviation = statistics.stdev(data)\n",
    "print(\"Standard Deviation:\", standard_deviation)\n"
   ]
  },
  {
   "cell_type": "code",
   "execution_count": 7,
   "id": "86367f9e-7d78-44c9-a945-9c6b77a9814a",
   "metadata": {},
   "outputs": [
    {
     "data": {
      "text/plain": [
       "'\\n    Range: Difference between the highest and lowest value.\\n    Variance: Average of the squared differences from the mean.\\n    Standard Deviation: Square root of the variance.\\n    Example: In a data set [2,4,6,8,10], the range is 8, variance is 8, and standard deviation is approximately 2.8.\\n'"
      ]
     },
     "execution_count": 7,
     "metadata": {},
     "output_type": "execute_result"
    }
   ],
   "source": [
    "# Q5) How are measures of dispersion such as range, variance, and standard deviation used to describe\n",
    "#     the spread of a dataset? Provide an example.\n",
    "\n",
    "\"\"\"\n",
    "    Range: Difference between the highest and lowest value.\n",
    "    Variance: Average of the squared differences from the mean.\n",
    "    Standard Deviation: Square root of the variance.\n",
    "    Example: In a data set [2,4,6,8,10], the range is 8, variance is 8, and standard deviation is approximately 2.8.\n",
    "\"\"\""
   ]
  },
  {
   "cell_type": "code",
   "execution_count": 8,
   "id": "ad39789a-ca14-4eba-a957-f78dd27e570e",
   "metadata": {},
   "outputs": [
    {
     "data": {
      "text/plain": [
       "'\\nA Venn diagram is a graphical representation used to show the relationship between sets. \\nOverlapping areas often indicate common elements between the sets.\\n'"
      ]
     },
     "execution_count": 8,
     "metadata": {},
     "output_type": "execute_result"
    }
   ],
   "source": [
    "# Q6. What is a Venn diagram?\n",
    "\"\"\"\n",
    "A Venn diagram is a graphical representation used to show the relationship between sets. \n",
    "Overlapping areas often indicate common elements between the sets.\n",
    "\"\"\""
   ]
  },
  {
   "cell_type": "code",
   "execution_count": 9,
   "id": "9a557f41-8138-4e7b-b176-897107a7bd5c",
   "metadata": {},
   "outputs": [
    {
     "data": {
      "text/plain": [
       "'\\n    A intersection B = (2, 6)\\n    A Union B = (0, 2, 3, 4, 5, 6, 7, 8, 10)\\n'"
      ]
     },
     "execution_count": 9,
     "metadata": {},
     "output_type": "execute_result"
    }
   ],
   "source": [
    "# Q7. For the two given sets A = (2,3,4,5,6,7) & B = (0,2,6,8,10). \n",
    "\"\"\"\n",
    "    A intersection B = (2, 6)\n",
    "    A Union B = (0, 2, 3, 4, 5, 6, 7, 8, 10)\n",
    "\"\"\""
   ]
  },
  {
   "cell_type": "code",
   "execution_count": 10,
   "id": "8f26de69-256f-4929-9e67-70cf0bb752f9",
   "metadata": {},
   "outputs": [
    {
     "data": {
      "image/png": "[encoded data removed]",
      "text/plain": [
       "<Figure size 640x480 with 1 Axes>"
      ]
     },
     "metadata": {},
     "output_type": "display_data"
    }
   ],
   "source": [
    "# Q8. What do you understand about skewness in data?\n",
    "\"\"\"\n",
    "Skewness in data refers to the measure of the asymmetry of the probability distribution of a real-valued random \n",
    "variable about its mean.\n",
    "\"\"\"\n",
    "import numpy as np\n",
    "import matplotlib.pyplot as plt\n",
    "\n",
    "# Generate skewed data with np.random.exponential\n",
    "data = np.random.exponential(scale=1.0, size=1000)\n",
    "\n",
    "# Plot histogram\n",
    "plt.hist(data, bins=30, color='c')\n",
    "\n",
    "# Add a title and labels\n",
    "plt.title('Histogram of Skewed Data')\n",
    "plt.xlabel('Value')\n",
    "plt.ylabel('Frequency')\n",
    "\n",
    "# Show the plot\n",
    "plt.show()\n",
    "\n"
   ]
  },
  {
   "cell_type": "code",
   "execution_count": 11,
   "id": "5cac566e-eaa2-4bbd-b685-258e4e8bac66",
   "metadata": {},
   "outputs": [
    {
     "data": {
      "text/plain": [
       "'\\nIf data is right-skewed (positive skew), the median is typically less than the mean.\\n'"
      ]
     },
     "execution_count": 11,
     "metadata": {},
     "output_type": "execute_result"
    }
   ],
   "source": [
    "# Q9. If a data is right skewed then what will be the position of median with respect to mean?\n",
    "\"\"\"\n",
    "If data is right-skewed (positive skew), the median is typically less than the mean.\n",
    "\"\"\""
   ]
  },
  {
   "cell_type": "code",
   "execution_count": 12,
   "id": "d202bf54-7056-4975-be48-b3884bbda559",
   "metadata": {},
   "outputs": [
    {
     "data": {
      "text/plain": [
       "'\\n    Covariance: Measures the degree to which two variables move together.\\n    Correlation: Standardized measure of covariance that ranges between -1 and 1, \\n                 showing the strength and direction of a relationship between two variables.\\n'"
      ]
     },
     "execution_count": 12,
     "metadata": {},
     "output_type": "execute_result"
    }
   ],
   "source": [
    "# Q10. Explain the difference between covariance and correlation. How are these measures used in\n",
    "# statistical analysis ?\n",
    "\n",
    "\"\"\"\n",
    "    Covariance: Measures the degree to which two variables move together.\n",
    "    Correlation: Standardized measure of covariance that ranges between -1 and 1, \n",
    "                 showing the strength and direction of a relationship between two variables.\n",
    "\"\"\""
   ]
  },
  {
   "cell_type": "code",
   "execution_count": 13,
   "id": "cb41bcac-752a-4c95-9180-92fe58984b91",
   "metadata": {},
   "outputs": [
    {
     "name": "stdout",
     "output_type": "stream",
     "text": [
      "Sample Mean: 8.0\n"
     ]
    }
   ],
   "source": [
    "# Q11. What is the formula for calculating the sample mean? Provide an example calculation for a dataset.\n",
    "\n",
    "\n",
    "\n",
    "dataset = [4, 8, 12, 6, 10]\n",
    "sample_mean = lambda data: sum(data) / len(data)\n",
    "result = sample_mean(dataset)\n",
    "print(\"Sample Mean:\", result)\n"
   ]
  },
  {
   "cell_type": "code",
   "execution_count": 14,
   "id": "797018cb-141d-4761-9a01-09dfae1fdb2c",
   "metadata": {},
   "outputs": [
    {
     "data": {
      "text/plain": [
       "'\\nFor a normal distribution data, the mean, median, and mode are all equal.\\n'"
      ]
     },
     "execution_count": 14,
     "metadata": {},
     "output_type": "execute_result"
    }
   ],
   "source": [
    "# Q12. For a normal distribution data what is the relationship between its measure of central tendency?\n",
    "\"\"\"\n",
    "For a normal distribution data, the mean, median, and mode are all equal.\n",
    "\"\"\""
   ]
  },
  {
   "cell_type": "code",
   "execution_count": 15,
   "id": "f6e1ae60-d212-4da2-8799-f98a056d2916",
   "metadata": {},
   "outputs": [
    {
     "data": {
      "text/plain": [
       "'\\nCovariance and correlation differ in that correlation is a standardized version of covariance and measures the strength and \\ndirection of the relationship, while covariance simply measures the degree of change between two variables.\\n'"
      ]
     },
     "execution_count": 15,
     "metadata": {},
     "output_type": "execute_result"
    }
   ],
   "source": [
    "# Q13. How is covariance different from correlation?\n",
    "\"\"\"\n",
    "Covariance and correlation differ in that correlation is a standardized version of covariance and measures the strength and \n",
    "direction of the relationship, while covariance simply measures the degree of change between two variables.\n",
    "\"\"\""
   ]
  },
  {
   "cell_type": "code",
   "execution_count": 19,
   "id": "5201ca32-f589-451f-9228-1bb0f9f4f587",
   "metadata": {},
   "outputs": [
    {
     "name": "stdout",
     "output_type": "stream",
     "text": [
      "Data without outlier:\n",
      "Mean before: 6.0\n",
      "Median before: 6.0\n",
      "Standard Deviation before: 2.8284271247461903\n",
      "\n",
      "Data with outlier:\n",
      "Mean after: 171.66666666666666\n",
      "Median after: 7.0\n",
      "Standard Deviation after: 370.45092642466005\n"
     ]
    }
   ],
   "source": [
    "# Q14. How do outliers affect measures of central tendency and dispersion? Provide an example.\n",
    "\n",
    "import numpy as np\n",
    "data = [2, 4, 6, 8, 10]\n",
    "\n",
    "mean_before = np.mean(data)\n",
    "median_before = np.median(data)\n",
    "std_dev_before = np.std(data)\n",
    "\n",
    "# Adding an outlier\n",
    "data_with_outlier = data + [1000]\n",
    "\n",
    "# Calculating the mean, median, and standard deviation with the outlier\n",
    "mean_after = np.mean(data_with_outlier)\n",
    "median_after = np.median(data_with_outlier)\n",
    "std_dev_after = np.std(data_with_outlier)\n",
    "\n",
    "# Printing the results\n",
    "print(\"Data without outlier:\")\n",
    "print(\"Mean before:\", mean_before)\n",
    "print(\"Median before:\", median_before)\n",
    "print(\"Standard Deviation before:\", std_dev_before)\n",
    "print(\"\\nData with outlier:\")\n",
    "print(\"Mean after:\", mean_after)\n",
    "print(\"Median after:\", median_after)\n",
    "print(\"Standard Deviation after:\", std_dev_after)\n"
   ]
  },
  {
   "cell_type": "code",
   "execution_count": null,
   "id": "01f02621-68f1-4820-b3a0-87e646f551e6",
   "metadata": {},
   "outputs": [],
   "source": []
  }
 ],
 "metadata": {
  "kernelspec": {
   "display_name": "Python 3 (ipykernel)",
   "language": "python",
   "name": "python3"
  },
  "language_info": {
   "codemirror_mode": {
    "name": "ipython",
    "version": 3
   },
   "file_extension": ".py",
   "mimetype": "text/x-python",
   "name": "python",
   "nbconvert_exporter": "python",
   "pygments_lexer": "ipython3",
   "version": "3.10.8"
  }
 },
 "nbformat": 4,
 "nbformat_minor": 5
}

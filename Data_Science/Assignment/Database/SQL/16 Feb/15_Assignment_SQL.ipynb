{
 "cells": [
  {
   "cell_type": "code",
   "execution_count": 1,
   "id": "e5fdcd70-941d-4a70-8a69-d40d2648c99d",
   "metadata": {},
   "outputs": [
    {
     "data": {
      "text/plain": [
       "\"\\nQ1. What is a database? Differentiate between SQL and NoSQL databases.\\n\\nA database is an organized collection of data stored and accessed electronically. Databases allow for efficient\\ndata management with functions for storing, \\nretrieving, and manipulating data.\\nSQL (Structured Query Language) Databases: These are relational databases that use SQL for defining and manipulating the data.\\nData is stored in tables and \\nthese tables are linked based on relationships. SQL databases are best for complex queries and follow ACID properties \\n(Atomicity, Consistency, Isolation,\\nDurability).\\nNoSQL (Not only SQL) Databases: NoSQL databases do not require a fixed schema and avoid join operations. \\nThey're good for large sets of distributed data.\\nNoSQL databases can store structured, semi-structured, or unstructured data and can scale horizontally. \\nThey focus on the CAP theorem \\n(Consistency, Availability, Partition tolerance).\\n\\nKey Differences:\\n\\n    SQL databases require a predefined schema, NoSQL doesn't.\\n    SQL databases scale vertically (more power to the existing server), NoSQL databases scale horizontally (more servers).\\n    SQL databases are great for complex queries, NoSQL databases are not as strong in this area.\\n    SQL databases follow ACID properties, NoSQL databases follow the CAP theorem.\\n\\n\""
      ]
     },
     "execution_count": 1,
     "metadata": {},
     "output_type": "execute_result"
    }
   ],
   "source": [
    "\"\"\"\n",
    "Q1. What is a database? Differentiate between SQL and NoSQL databases.\n",
    "\n",
    "A database is an organized collection of data stored and accessed electronically. Databases allow for efficient\n",
    "data management with functions for storing, \n",
    "retrieving, and manipulating data.\n",
    "SQL (Structured Query Language) Databases: These are relational databases that use SQL for defining and manipulating the data.\n",
    "Data is stored in tables and \n",
    "these tables are linked based on relationships. SQL databases are best for complex queries and follow ACID properties \n",
    "(Atomicity, Consistency, Isolation,\n",
    "Durability).\n",
    "NoSQL (Not only SQL) Databases: NoSQL databases do not require a fixed schema and avoid join operations. \n",
    "They're good for large sets of distributed data.\n",
    "NoSQL databases can store structured, semi-structured, or unstructured data and can scale horizontally. \n",
    "They focus on the CAP theorem \n",
    "(Consistency, Availability, Partition tolerance).\n",
    "\n",
    "Key Differences:\n",
    "\n",
    "    SQL databases require a predefined schema, NoSQL doesn't.\n",
    "    SQL databases scale vertically (more power to the existing server), NoSQL databases scale horizontally (more servers).\n",
    "    SQL databases are great for complex queries, NoSQL databases are not as strong in this area.\n",
    "    SQL databases follow ACID properties, NoSQL databases follow the CAP theorem.\n",
    "\n",
    "\"\"\""
   ]
  },
  {
   "cell_type": "code",
   "execution_count": 2,
   "id": "8f420a3f-35f1-492e-a1d5-1cc5d75a0e1f",
   "metadata": {},
   "outputs": [
    {
     "data": {
      "text/plain": [
       "\"\\nQ2. What is DDL? Explain why CREATE, DROP, ALTER, and TRUNCATE are used with an example.\\n\\nDDL stands for Data Definition Language, used to define and manage structures in a database.\\n1) CREATE: Used to create a new table or database.\\n\\t\\tCREATE TABLE Students (StudentID int, StudentName varchar(255));\\n\\n2)DROP: Used to delete a table or database.\\n\\t\\tDROP TABLE Students;\\n\\n3)ALTER: Used to modify the structure of a database.\\n\\t\\tALTER TABLE Students ADD Age int;\\n\\n4)TRUNCATE: Used to remove all records from a table.\\nThis removes all records from 'Students' but keeps the table structure.\\n\\t\\tTRUNCATE TABLE Students;\\n\\n\""
      ]
     },
     "execution_count": 2,
     "metadata": {},
     "output_type": "execute_result"
    }
   ],
   "source": [
    "\"\"\"\n",
    "Q2. What is DDL? Explain why CREATE, DROP, ALTER, and TRUNCATE are used with an example.\n",
    "\n",
    "DDL stands for Data Definition Language, used to define and manage structures in a database.\n",
    "1) CREATE: Used to create a new table or database.\n",
    "\t\tCREATE TABLE Students (StudentID int, StudentName varchar(255));\n",
    "\n",
    "2)DROP: Used to delete a table or database.\n",
    "\t\tDROP TABLE Students;\n",
    "\n",
    "3)ALTER: Used to modify the structure of a database.\n",
    "\t\tALTER TABLE Students ADD Age int;\n",
    "\n",
    "4)TRUNCATE: Used to remove all records from a table.\n",
    "This removes all records from 'Students' but keeps the table structure.\n",
    "\t\tTRUNCATE TABLE Students;\n",
    "\n",
    "\"\"\""
   ]
  },
  {
   "cell_type": "code",
   "execution_count": 3,
   "id": "46b85d72-6a25-40d7-83d2-e1c2df8fc580",
   "metadata": {},
   "outputs": [
    {
     "data": {
      "text/plain": [
       "\"\\n\\nQ3) What is DML? Explain INSERT, UPDATE, and DELETE with an example.\\nDML stands for Data Manipulation Language. It is used to manage data within schema objects.\\n\\nINSERT: Used to insert data into a table.\\n\\t\\t(This adds a new row to the 'Students' table)\\n\\t\\tINSERT INTO Students (StudentID, StudentName) VALUES (1, 'John');\\n\\nUPDATE: Used to modify existing records.\\n\\t\\t(This updates 'Age' for the student with 'StudentID' 1.)\\n\\t\\tUPDATE Students SET Age = 14 WHERE StudentID = 1;\\n\\nDELETE: Used to delete existing records.\\n\\t\\t(This deletes the student with 'StudentID' 1 from 'Students'.)\\n\\t\\tDELETE FROM Students WHERE StudentID = 1;\\n\\n\""
      ]
     },
     "execution_count": 3,
     "metadata": {},
     "output_type": "execute_result"
    }
   ],
   "source": [
    "\"\"\"\n",
    "\n",
    "Q3) What is DML? Explain INSERT, UPDATE, and DELETE with an example.\n",
    "DML stands for Data Manipulation Language. It is used to manage data within schema objects.\n",
    "\n",
    "INSERT: Used to insert data into a table.\n",
    "\t\t(This adds a new row to the 'Students' table)\n",
    "\t\tINSERT INTO Students (StudentID, StudentName) VALUES (1, 'John');\n",
    "\n",
    "UPDATE: Used to modify existing records.\n",
    "\t\t(This updates 'Age' for the student with 'StudentID' 1.)\n",
    "\t\tUPDATE Students SET Age = 14 WHERE StudentID = 1;\n",
    "\n",
    "DELETE: Used to delete existing records.\n",
    "\t\t(This deletes the student with 'StudentID' 1 from 'Students'.)\n",
    "\t\tDELETE FROM Students WHERE StudentID = 1;\n",
    "\n",
    "\"\"\""
   ]
  },
  {
   "cell_type": "code",
   "execution_count": 4,
   "id": "904c8d76-ee8d-4af2-9898-388ea7a38036",
   "metadata": {},
   "outputs": [
    {
     "data": {
      "text/plain": [
       "'\\nQ4. What is DQL? Explain SELECT with an example.\\n\\nDQL stands for Data Query Language. The main DQL command is SELECT, which is used to query data within the database.\\nSELECT: Used to fetch data from a database.\\n\\t\\tSELECT StudentName FROM Students WHERE Age > 14;\\n\\n'"
      ]
     },
     "execution_count": 4,
     "metadata": {},
     "output_type": "execute_result"
    }
   ],
   "source": [
    "\"\"\"\n",
    "Q4. What is DQL? Explain SELECT with an example.\n",
    "\n",
    "DQL stands for Data Query Language. The main DQL command is SELECT, which is used to query data within the database.\n",
    "SELECT: Used to fetch data from a database.\n",
    "\t\tSELECT StudentName FROM Students WHERE Age > 14;\n",
    "\n",
    "\"\"\""
   ]
  },
  {
   "cell_type": "code",
   "execution_count": null,
   "id": "8c75ab64-4065-4941-a689-3731c03ed7ea",
   "metadata": {},
   "outputs": [],
   "source": [
    "\"\"\"\n",
    "\"\"\""
   ]
  }
 ],
 "metadata": {
  "kernelspec": {
   "display_name": "Python 3 (ipykernel)",
   "language": "python",
   "name": "python3"
  },
  "language_info": {
   "codemirror_mode": {
    "name": "ipython",
    "version": 3
   },
   "file_extension": ".py",
   "mimetype": "text/x-python",
   "name": "python",
   "nbconvert_exporter": "python",
   "pygments_lexer": "ipython3",
   "version": "3.10.8"
  }
 },
 "nbformat": 4,
 "nbformat_minor": 5
}

{
 "cells": [
  {
   "cell_type": "markdown",
   "id": "79f3c270-cdb9-4d94-9567-3d90a5f0174f",
   "metadata": {},
   "source": [
    "#  Handling Outlier"
   ]
  },
  {
   "cell_type": "markdown",
   "id": "7510c597-ee9a-4838-96bc-0096379e68a7",
   "metadata": {},
   "source": [
    "## 5 Numer summary \n",
    "1. Minimum Value\n",
    "2. Q1-25 percentile\n",
    "3. Median \n",
    "4. Q3-75 percentile\n",
    "5. Maximum"
   ]
  },
  {
   "cell_type": "code",
   "execution_count": 11,
   "id": "7795f3df-9590-4bfc-9906-f8a55168673e",
   "metadata": {},
   "outputs": [
    {
     "name": "stdout",
     "output_type": "stream",
     "text": [
      "Number at 25th Percentile position  [54.5]\n",
      "Number at Median  [74.5]\n",
      "Number at 0 Percentile position  [32.]\n",
      "Number at 100 Percentile position  [1100.]\n"
     ]
    }
   ],
   "source": [
    "import numpy as np \n",
    "lst_marks=[45,32,56,75,89,54,32,89,90,87,67,74,1000,1100]\n",
    "print('Number at 25th Percentile position ',np.percentile(lst_marks,[25]))\n",
    "print('Number at Median ',np.percentile(lst_marks,[50]))\n",
    "print('Number at 0 Percentile position ',np.percentile(lst_marks,[0]))\n",
    "print('Number at 100 Percentile position ',np.percentile(lst_marks,[100]))\n"
   ]
  },
  {
   "cell_type": "code",
   "execution_count": 12,
   "id": "2630b236-5f4e-43a8-9931-fb64aca7d059",
   "metadata": {},
   "outputs": [],
   "source": [
    "## [Lower Fence <---------->  Higher Fence ]\n",
    "Q1=np.percentile(lst_marks,[25])"
   ]
  },
  {
   "cell_type": "code",
   "execution_count": 16,
   "id": "87c39e5c-aa3b-4728-a560-03d5179ac951",
   "metadata": {},
   "outputs": [
    {
     "name": "stdout",
     "output_type": "stream",
     "text": [
      "34.5\n"
     ]
    }
   ],
   "source": [
    "minimum,Q1,Q2,Q3,maximum=np.quantile(lst_marks,[0,0.25,0.5,0.75,1])\n",
    "IQR=Q3-Q1\n",
    "print(IQR)"
   ]
  },
  {
   "cell_type": "code",
   "execution_count": 18,
   "id": "ac8ceb07-fe47-476b-8a94-bb67e6bf07e0",
   "metadata": {},
   "outputs": [
    {
     "name": "stdout",
     "output_type": "stream",
     "text": [
      "2.75 140.75\n"
     ]
    }
   ],
   "source": [
    "loweer_fence=Q1-1.5*(IQR)\n",
    "higher_fence=Q3+1.5*(IQR)\n",
    "print(loweer_fence,higher_fence)"
   ]
  },
  {
   "cell_type": "code",
   "execution_count": 20,
   "id": "d33d16c7-d68b-4200-aab5-9c95046f4fea",
   "metadata": {},
   "outputs": [
    {
     "name": "stdout",
     "output_type": "stream",
     "text": [
      "This element is not an outlier\n",
      "This element is not an outlier\n",
      "This element is not an outlier\n",
      "This element is not an outlier\n",
      "This element is not an outlier\n",
      "This element is not an outlier\n",
      "This element is not an outlier\n",
      "This element is not an outlier\n",
      "This element is not an outlier\n",
      "This element is not an outlier\n",
      "This element is not an outlier\n",
      "This element is not an outlier\n",
      "[1000, 1100]\n"
     ]
    }
   ],
   "source": [
    "outliers=[]\n",
    "for i in lst_marks:\n",
    "    if i >= loweer_fence and i <= higher_fence:\n",
    "        print (\"This element is not an outlier\")\n",
    "    else :\n",
    "        outliers.append(i)\n",
    "print(outliers)"
   ]
  },
  {
   "cell_type": "code",
   "execution_count": 21,
   "id": "12d5d9bb-a8af-4eec-9119-8a28e02b6dbe",
   "metadata": {},
   "outputs": [
    {
     "data": {
      "text/plain": [
       "<AxesSubplot: >"
      ]
     },
     "execution_count": 21,
     "metadata": {},
     "output_type": "execute_result"
    },
    {
     "data": {
      "image/png": "[encoded data removed]",
      "text/plain": [
       "<Figure size 640x480 with 1 Axes>"
      ]
     },
     "metadata": {},
     "output_type": "display_data"
    }
   ],
   "source": [
    "import seaborn as sns \n",
    "sns.boxenplot(lst_marks)"
   ]
  },
  {
   "cell_type": "code",
   "execution_count": null,
   "id": "cc940b12-bb74-4a99-b2df-b34ea0f75f8a",
   "metadata": {},
   "outputs": [],
   "source": []
  }
 ],
 "metadata": {
  "kernelspec": {
   "display_name": "Python 3 (ipykernel)",
   "language": "python",
   "name": "python3"
  },
  "language_info": {
   "codemirror_mode": {
    "name": "ipython",
    "version": 3
   },
   "file_extension": ".py",
   "mimetype": "text/x-python",
   "name": "python",
   "nbconvert_exporter": "python",
   "pygments_lexer": "ipython3",
   "version": "3.10.8"
  }
 },
 "nbformat": 4,
 "nbformat_minor": 5
}

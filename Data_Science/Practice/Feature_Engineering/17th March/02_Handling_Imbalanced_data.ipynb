{
 "cells": [
  {
   "cell_type": "code",
   "execution_count": 1,
   "id": "153ff39d-2c2e-42cb-89e1-df0630d4f30a",
   "metadata": {},
   "outputs": [],
   "source": [
    "import numpy as np\n",
    "import pandas as pd\n",
    "from sklearn.utils import resample\n"
   ]
  },
  {
   "cell_type": "code",
   "execution_count": 2,
   "id": "8f7e7f14-bcc1-4b92-acd7-b53c08190975",
   "metadata": {},
   "outputs": [],
   "source": [
    "# Set the random seed for reproducibility \n",
    "np.random.seed(123)\n",
    "# Create a data frame with two classes \n",
    "n_samples=1000\n",
    "class_0_ratio=0.9\n",
    "n_class_0=int (n_samples* class_0_ratio)\n",
    "n_class_1= n_samples - n_class_0"
   ]
  },
  {
   "cell_type": "code",
   "execution_count": 3,
   "id": "e11bbb2d-af21-400a-9e1c-9b5411070cce",
   "metadata": {},
   "outputs": [
    {
     "name": "stdout",
     "output_type": "stream",
     "text": [
      "900 100\n"
     ]
    }
   ],
   "source": [
    "print(n_class_0,n_class_1)"
   ]
  },
  {
   "cell_type": "code",
   "execution_count": 4,
   "id": "5c388464-65fa-45f1-8d5a-f217e5d28f02",
   "metadata": {},
   "outputs": [],
   "source": [
    "class_0=pd.DataFrame({\n",
    "    'feature_1': np.random.normal(loc=0,scale=1,size=n_class_0),\n",
    "    'feature_2': np.random.normal(loc=0,scale=1,size=n_class_0),\n",
    "    'target': [0] * n_class_0\n",
    "})\n",
    "\n",
    "class_1=pd.DataFrame({\n",
    "    'feature_1': np.random.normal(loc=0,scale=1,size=n_class_1),\n",
    "    'feature_2': np.random.normal(loc=0,scale=1,size=n_class_1),\n",
    "    'target': [1] * n_class_1\n",
    "})"
   ]
  },
  {
   "cell_type": "code",
   "execution_count": 5,
   "id": "0dca5e57-c28e-4909-bb65-e94ee1b8521a",
   "metadata": {},
   "outputs": [],
   "source": [
    "df=pd.concat([class_0,class_1]).reset_index(drop=True)"
   ]
  },
  {
   "cell_type": "code",
   "execution_count": 6,
   "id": "0882c6af-954d-445d-97e7-83c799c8f5bc",
   "metadata": {},
   "outputs": [
    {
     "data": {
      "text/html": [
       "<div>\n",
       "<style scoped>\n",
       "    .dataframe tbody tr th:only-of-type {\n",
       "        vertical-align: middle;\n",
       "    }\n",
       "\n",
       "    .dataframe tbody tr th {\n",
       "        vertical-align: top;\n",
       "    }\n",
       "\n",
       "    .dataframe thead th {\n",
       "        text-align: right;\n",
       "    }\n",
       "</style>\n",
       "<table border=\"1\" class=\"dataframe\">\n",
       "  <thead>\n",
       "    <tr style=\"text-align: right;\">\n",
       "      <th></th>\n",
       "      <th>feature_1</th>\n",
       "      <th>feature_2</th>\n",
       "      <th>target</th>\n",
       "    </tr>\n",
       "  </thead>\n",
       "  <tbody>\n",
       "    <tr>\n",
       "      <th>0</th>\n",
       "      <td>-1.085631</td>\n",
       "      <td>0.551302</td>\n",
       "      <td>0</td>\n",
       "    </tr>\n",
       "    <tr>\n",
       "      <th>1</th>\n",
       "      <td>0.997345</td>\n",
       "      <td>0.419589</td>\n",
       "      <td>0</td>\n",
       "    </tr>\n",
       "    <tr>\n",
       "      <th>2</th>\n",
       "      <td>0.282978</td>\n",
       "      <td>1.815652</td>\n",
       "      <td>0</td>\n",
       "    </tr>\n",
       "    <tr>\n",
       "      <th>3</th>\n",
       "      <td>-1.506295</td>\n",
       "      <td>-0.252750</td>\n",
       "      <td>0</td>\n",
       "    </tr>\n",
       "    <tr>\n",
       "      <th>4</th>\n",
       "      <td>-0.578600</td>\n",
       "      <td>-0.292004</td>\n",
       "      <td>0</td>\n",
       "    </tr>\n",
       "  </tbody>\n",
       "</table>\n",
       "</div>"
      ],
      "text/plain": [
       "   feature_1  feature_2  target\n",
       "0  -1.085631   0.551302       0\n",
       "1   0.997345   0.419589       0\n",
       "2   0.282978   1.815652       0\n",
       "3  -1.506295  -0.252750       0\n",
       "4  -0.578600  -0.292004       0"
      ]
     },
     "execution_count": 10,
     "metadata": {},
     "output_type": "execute_result"
    }
   ],
   "source": [
    "df.head()"
   ]
  },
  {
   "cell_type": "code",
   "execution_count": 9,
   "id": "f86565d7-c80e-4015-a44b-9e874070a787",
   "metadata": {},
   "outputs": [
    {
     "data": {
      "text/plain": [
       "0    900\n",
       "1    100\n",
       "Name: target, dtype: int64"
      ]
     },
     "execution_count": 11,
     "metadata": {},
     "output_type": "execute_result"
    }
   ],
   "source": [
    "df['target'].value_counts()"
   ]
  },
  {
   "cell_type": "markdown",
   "id": "b376a6cd-eb32-469b-a29b-00f2afcbb677",
   "metadata": {
    "tags": []
   },
   "source": [
    "# Up sampling \n",
    "Make extra points "
   ]
  },
  {
   "cell_type": "code",
   "execution_count": 8,
   "id": "e3a72a4f-f660-44d7-a013-ae846702415f",
   "metadata": {},
   "outputs": [
    {
     "name": "stdout",
     "output_type": "stream",
     "text": [
      "     feature_1  feature_2  target\n",
      "900  -0.300232   0.139033       1\n",
      "901  -0.632261   0.025577       1\n",
      "902  -0.204317  -0.196443       1\n",
      "903   0.213696   1.312255       1\n",
      "904   1.033878   1.187417       1\n",
      "   feature_1  feature_2  target\n",
      "0  -1.085631   0.551302       0\n",
      "1   0.997345   0.419589       0\n",
      "2   0.282978   1.815652       0\n",
      "3  -1.506295  -0.252750       0\n",
      "4  -0.578600  -0.292004       0\n"
     ]
    }
   ],
   "source": [
    "df_minority=df[df['target']==1]\n",
    "df_majority=df[df['target']==0]\n",
    "print(df_minority.head())\n",
    "print(df_majority.head())"
   ]
  },
  {
   "cell_type": "code",
   "execution_count": 175,
   "id": "f0454c2f-2b5b-48a7-8db7-0fe2e0b51259",
   "metadata": {},
   "outputs": [],
   "source": [
    "# Perform UpSampling \n",
    "from sklearn.utils import resample\n",
    "df_minority_upsample=resample(df_minority,\n",
    "                              replace=True, ## Select with replacement \n",
    "                              n_samples=len(df_majority), # To match the majority class \n",
    "                              random_state=42 \n",
    "                             )"
   ]
  },
  {
   "cell_type": "code",
   "execution_count": 176,
   "id": "3716e46c-d136-45c0-82b0-2411b32b9c7f",
   "metadata": {},
   "outputs": [
    {
     "name": "stdout",
     "output_type": "stream",
     "text": [
      "(900, 3)\n",
      "     feature_1  feature_2  target\n",
      "951  -0.874146  -0.156083       1\n",
      "992   0.196570  -0.602575       1\n",
      "914  -0.067830   0.998053       1\n",
      "971   0.272825   1.034197       1\n",
      "960   0.870056  -0.449515       1\n"
     ]
    },
    {
     "data": {
      "text/plain": [
       "1    900\n",
       "Name: target, dtype: int64"
      ]
     },
     "execution_count": 14,
     "metadata": {},
     "output_type": "execute_result"
    }
   ],
   "source": [
    "print(df_minority_upsample.shape)\n",
    "print(df_minority_upsample.head())\n",
    "df_minority_upsample['target'].value_counts()"
   ]
  },
  {
   "cell_type": "code",
   "execution_count": 177,
   "id": "ad13fc86-2cec-4a78-987e-87d3d7d6ceec",
   "metadata": {},
   "outputs": [
    {
     "data": {
      "text/plain": [
       "0    900\n",
       "1    900\n",
       "Name: target, dtype: int64"
      ]
     },
     "execution_count": 15,
     "metadata": {},
     "output_type": "execute_result"
    }
   ],
   "source": [
    "df_upsampled=pd.concat([df_majority,df_minority_upsample])\n",
    "df_upsampled['target'].value_counts()"
   ]
  },
  {
   "cell_type": "markdown",
   "id": "43401725-fee7-4bab-a049-89aa87015ae0",
   "metadata": {},
   "source": [
    "# Down Sampling \n",
    "The one having the low point must be downsized "
   ]
  },
  {
   "cell_type": "code",
   "execution_count": 178,
   "id": "c50926bc-132a-4329-9f6b-d67c8f3075fc",
   "metadata": {},
   "outputs": [],
   "source": [
    "class_0=pd.DataFrame({\n",
    "    'feature_1': np.random.normal(loc=0,scale=1,size=n_class_0),\n",
    "    'feature_2': np.random.normal(loc=0,scale=1,size=n_class_0),\n",
    "    'target': [0] * n_class_0\n",
    "})\n",
    "\n",
    "class_1=pd.DataFrame({\n",
    "    'feature_1': np.random.normal(loc=0,scale=1,size=n_class_1),\n",
    "    'feature_2': np.random.normal(loc=0,scale=1,size=n_class_1),\n",
    "    'target': [1] * n_class_1\n",
    "})"
   ]
  },
  {
   "cell_type": "code",
   "execution_count": 179,
   "id": "c37a3183-ef4b-41ed-989e-25b93f07f892",
   "metadata": {},
   "outputs": [],
   "source": [
    "df=pd.concat([class_0,class_1]).reset_index(drop=True)"
   ]
  },
  {
   "cell_type": "code",
   "execution_count": 180,
   "id": "ca8d2994-8e15-4aff-a4f7-6a3baa4bead5",
   "metadata": {},
   "outputs": [],
   "source": [
    "df_minority=df[df['target']==1]\n",
    "df_majority=df[df['target']==0]"
   ]
  },
  {
   "cell_type": "code",
   "execution_count": 181,
   "id": "5819b638-dfb4-4a50-8478-405d7a37567f",
   "metadata": {},
   "outputs": [
    {
     "name": "stdout",
     "output_type": "stream",
     "text": [
      "(100, 3)\n"
     ]
    }
   ],
   "source": [
    "df_majority_downsample=resample(df_majority,\n",
    "                                replace=False,\n",
    "                                n_samples=len(df_minority),\n",
    "                                random_state=42\n",
    ")\n",
    "print(df_majority_downsample.shape)\n",
    "df_downsample=pd.concat([df_minority,df_majority_downsample])\n"
   ]
  },
  {
   "cell_type": "code",
   "execution_count": 182,
   "id": "ca382233-24be-4c3e-8a65-09e74164315c",
   "metadata": {},
   "outputs": [
    {
     "data": {
      "text/plain": [
       "(100, 3)"
      ]
     },
     "execution_count": 20,
     "metadata": {},
     "output_type": "execute_result"
    }
   ],
   "source": [
    "df_majority_downsample.shape"
   ]
  },
  {
   "cell_type": "code",
   "execution_count": 183,
   "id": "4c12e776-47ca-493f-bf7e-f7f7d3816e85",
   "metadata": {},
   "outputs": [
    {
     "data": {
      "text/plain": [
       "1    100\n",
       "0    100\n",
       "Name: target, dtype: int64"
      ]
     },
     "execution_count": 21,
     "metadata": {},
     "output_type": "execute_result"
    }
   ],
   "source": [
    "df_downsample['target'].value_counts()"
   ]
  },
  {
   "cell_type": "code",
   "execution_count": null,
   "id": "1f388b34-9034-43cf-80eb-c8c7602cb447",
   "metadata": {},
   "outputs": [],
   "source": []
  },
  {
   "cell_type": "code",
   "execution_count": null,
   "id": "a36b8dda-2047-4e13-b0a1-27a128cb2256",
   "metadata": {},
   "outputs": [],
   "source": []
  }
 ],
 "metadata": {
  "kernelspec": {
   "display_name": "Python 3 (ipykernel)",
   "language": "python",
   "name": "python3"
  },
  "language_info": {
   "codemirror_mode": {
    "name": "ipython",
    "version": 3
   },
   "file_extension": ".py",
   "mimetype": "text/x-python",
   "name": "python",
   "nbconvert_exporter": "python",
   "pygments_lexer": "ipython3",
   "version": "3.10.8"
  }
 },
 "nbformat": 4,
 "nbformat_minor": 5
}

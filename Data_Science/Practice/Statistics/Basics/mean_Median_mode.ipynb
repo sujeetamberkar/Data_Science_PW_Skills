{
 "cells": [
  {
   "cell_type": "markdown",
   "id": "01ccdaa4-91de-44f1-b602-b5570f4cb382",
   "metadata": {},
   "source": [
    "## Measure of Cental Tendency "
   ]
  },
  {
   "cell_type": "code",
   "execution_count": 1,
   "id": "da6a5957-573a-45f3-a5b2-fb07073d10a1",
   "metadata": {},
   "outputs": [],
   "source": [
    "# Mean (Average)\n",
    "age=[12,21,23,45,65,43,56,45,32,67,54,34]"
   ]
  },
  {
   "cell_type": "code",
   "execution_count": 2,
   "id": "80421ed2-e873-46a4-9323-40d7c62f64f7",
   "metadata": {},
   "outputs": [
    {
     "data": {
      "text/plain": [
       "41.416666666666664"
      ]
     },
     "execution_count": 2,
     "metadata": {},
     "output_type": "execute_result"
    }
   ],
   "source": [
    "import numpy as np \n",
    "np.mean(age)"
   ]
  },
  {
   "cell_type": "code",
   "execution_count": 3,
   "id": "03824555-98f1-42ec-a3ab-180f8b9c1c74",
   "metadata": {},
   "outputs": [
    {
     "data": {
      "text/plain": [
       "54.714285714285715"
      ]
     },
     "execution_count": 3,
     "metadata": {},
     "output_type": "execute_result"
    }
   ],
   "source": [
    "weights=[54,45,34,54,67,75,54]\n",
    "np.mean(weights)"
   ]
  },
  {
   "cell_type": "code",
   "execution_count": 4,
   "id": "f2f8f598-cd4e-4b53-9df5-39b3352d2786",
   "metadata": {},
   "outputs": [
    {
     "data": {
      "text/html": [
       "<div>\n",
       "<style scoped>\n",
       "    .dataframe tbody tr th:only-of-type {\n",
       "        vertical-align: middle;\n",
       "    }\n",
       "\n",
       "    .dataframe tbody tr th {\n",
       "        vertical-align: top;\n",
       "    }\n",
       "\n",
       "    .dataframe thead th {\n",
       "        text-align: right;\n",
       "    }\n",
       "</style>\n",
       "<table border=\"1\" class=\"dataframe\">\n",
       "  <thead>\n",
       "    <tr style=\"text-align: right;\">\n",
       "      <th></th>\n",
       "      <th>total_bill</th>\n",
       "      <th>tip</th>\n",
       "      <th>sex</th>\n",
       "      <th>smoker</th>\n",
       "      <th>day</th>\n",
       "      <th>time</th>\n",
       "      <th>size</th>\n",
       "    </tr>\n",
       "  </thead>\n",
       "  <tbody>\n",
       "    <tr>\n",
       "      <th>0</th>\n",
       "      <td>16.99</td>\n",
       "      <td>1.01</td>\n",
       "      <td>Female</td>\n",
       "      <td>No</td>\n",
       "      <td>Sun</td>\n",
       "      <td>Dinner</td>\n",
       "      <td>2</td>\n",
       "    </tr>\n",
       "    <tr>\n",
       "      <th>1</th>\n",
       "      <td>10.34</td>\n",
       "      <td>1.66</td>\n",
       "      <td>Male</td>\n",
       "      <td>No</td>\n",
       "      <td>Sun</td>\n",
       "      <td>Dinner</td>\n",
       "      <td>3</td>\n",
       "    </tr>\n",
       "    <tr>\n",
       "      <th>2</th>\n",
       "      <td>21.01</td>\n",
       "      <td>3.50</td>\n",
       "      <td>Male</td>\n",
       "      <td>No</td>\n",
       "      <td>Sun</td>\n",
       "      <td>Dinner</td>\n",
       "      <td>3</td>\n",
       "    </tr>\n",
       "    <tr>\n",
       "      <th>3</th>\n",
       "      <td>23.68</td>\n",
       "      <td>3.31</td>\n",
       "      <td>Male</td>\n",
       "      <td>No</td>\n",
       "      <td>Sun</td>\n",
       "      <td>Dinner</td>\n",
       "      <td>2</td>\n",
       "    </tr>\n",
       "    <tr>\n",
       "      <th>4</th>\n",
       "      <td>24.59</td>\n",
       "      <td>3.61</td>\n",
       "      <td>Female</td>\n",
       "      <td>No</td>\n",
       "      <td>Sun</td>\n",
       "      <td>Dinner</td>\n",
       "      <td>4</td>\n",
       "    </tr>\n",
       "  </tbody>\n",
       "</table>\n",
       "</div>"
      ],
      "text/plain": [
       "   total_bill   tip     sex smoker  day    time  size\n",
       "0       16.99  1.01  Female     No  Sun  Dinner     2\n",
       "1       10.34  1.66    Male     No  Sun  Dinner     3\n",
       "2       21.01  3.50    Male     No  Sun  Dinner     3\n",
       "3       23.68  3.31    Male     No  Sun  Dinner     2\n",
       "4       24.59  3.61  Female     No  Sun  Dinner     4"
      ]
     },
     "execution_count": 4,
     "metadata": {},
     "output_type": "execute_result"
    }
   ],
   "source": [
    "import seaborn as sns\n",
    "df=sns.load_dataset('tips')\n",
    "df.head()"
   ]
  },
  {
   "cell_type": "code",
   "execution_count": 5,
   "id": "ac88a99b-08a8-4673-aee9-9daacd67d57b",
   "metadata": {},
   "outputs": [
    {
     "data": {
      "text/plain": [
       "19.78594262295082"
      ]
     },
     "execution_count": 5,
     "metadata": {},
     "output_type": "execute_result"
    }
   ],
   "source": [
    "np.mean(df['total_bill'])"
   ]
  },
  {
   "cell_type": "code",
   "execution_count": 6,
   "id": "4e94bdf7-3208-41a4-8775-ecc12d15a2c7",
   "metadata": {},
   "outputs": [
    {
     "data": {
      "text/plain": [
       "44.0"
      ]
     },
     "execution_count": 6,
     "metadata": {},
     "output_type": "execute_result"
    }
   ],
   "source": [
    "# Mediann\n",
    "age=[12,21,23,45,65,43,56,45,32,67,54,34]\n",
    "np.median(age)"
   ]
  },
  {
   "cell_type": "code",
   "execution_count": 9,
   "id": "9f300689-f551-4f67-a091-97a0ab3b12bd",
   "metadata": {},
   "outputs": [
    {
     "name": "stdout",
     "output_type": "stream",
     "text": [
      "Orignal data\n",
      "Median:  44.0\n",
      "Mean:  41.416666666666664\n",
      "\n",
      "With Outlier\n",
      "Median:  45.0\n",
      "Mean:  53.61538461538461\n"
     ]
    }
   ],
   "source": [
    "# Outlier and importance of median\n",
    "\n",
    "print(\"Orignal data\")\n",
    "age=[12,21,23,45,65,43,56,45,32,67,54,34]\n",
    "np.median(age)\n",
    "print(\"Median: \",np.median(age))\n",
    "print(\"Mean: \",np.mean(age))\n",
    "age=[12,21,23,45,65,43,56,45,32,67,54,34,200]\n",
    "print(\"\\nWith Outlier\")\n",
    "print(\"Median: \",np.median(age))\n",
    "print(\"Mean: \",np.mean(age))"
   ]
  },
  {
   "cell_type": "markdown",
   "id": "ae0372e7-f08b-4fb3-9e80-91873f35ea73",
   "metadata": {
    "tags": []
   },
   "source": [
    "# For mode we use a specific library named scipy "
   ]
  },
  {
   "cell_type": "code",
   "execution_count": 11,
   "id": "23b46810-2e38-4602-b64c-2ac2985e231b",
   "metadata": {},
   "outputs": [
    {
     "name": "stderr",
     "output_type": "stream",
     "text": [
      "/tmp/ipykernel_105/1371876584.py:2: FutureWarning: Unlike other reduction functions (e.g. `skew`, `kurtosis`), the default behavior of `mode` typically preserves the axis it acts along. In SciPy 1.11.0, this behavior will change: the default value of `keepdims` will become False, the `axis` over which the statistic is taken will be eliminated, and the value None will no longer be accepted. Set `keepdims` to True or False to avoid this warning.\n",
      "  stats.mode(age)\n"
     ]
    },
    {
     "data": {
      "text/plain": [
       "ModeResult(mode=array([45]), count=array([2]))"
      ]
     },
     "execution_count": 11,
     "metadata": {},
     "output_type": "execute_result"
    }
   ],
   "source": [
    "from scipy import stats\n",
    "stats.mode(age)"
   ]
  },
  {
   "cell_type": "raw",
   "id": "2cbaa163-54d4-4b28-b744-1598f2cbb124",
   "metadata": {},
   "source": [
    "# Thus the answer is 45, count is two|"
   ]
  },
  {
   "cell_type": "code",
   "execution_count": null,
   "id": "556692cd-4545-4c1e-b36d-bcc1c10d4d3c",
   "metadata": {},
   "outputs": [],
   "source": []
  }
 ],
 "metadata": {
  "kernelspec": {
   "display_name": "Python 3 (ipykernel)",
   "language": "python",
   "name": "python3"
  },
  "language_info": {
   "codemirror_mode": {
    "name": "ipython",
    "version": 3
   },
   "file_extension": ".py",
   "mimetype": "text/x-python",
   "name": "python",
   "nbconvert_exporter": "python",
   "pygments_lexer": "ipython3",
   "version": "3.10.8"
  }
 },
 "nbformat": 4,
 "nbformat_minor": 5
}

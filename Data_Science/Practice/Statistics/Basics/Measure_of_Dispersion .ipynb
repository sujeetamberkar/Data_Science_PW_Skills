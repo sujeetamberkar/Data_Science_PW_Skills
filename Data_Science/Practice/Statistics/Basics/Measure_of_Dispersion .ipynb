{
 "cells": [
  {
   "cell_type": "markdown",
   "id": "6b59f7b0-b487-4fb1-9ed2-37551e85e663",
   "metadata": {
    "tags": []
   },
   "source": [
    "## Measure of dispersion "
   ]
  },
  {
   "cell_type": "code",
   "execution_count": 4,
   "id": "e223fad8-6fe8-4225-b09b-168a2a29a66a",
   "metadata": {},
   "outputs": [
    {
     "data": {
      "text/plain": [
       "49.2"
      ]
     },
     "execution_count": 4,
     "metadata": {},
     "output_type": "execute_result"
    }
   ],
   "source": [
    "import numpy as np\n",
    "age_list=[23,43,23,54,74,32,68,98,45,32]\n"
   ]
  },
  {
   "cell_type": "code",
   "execution_count": 7,
   "id": "c5920fd3-eed3-4d26-963c-23ccb38c584a",
   "metadata": {},
   "outputs": [
    {
     "name": "stdout",
     "output_type": "stream",
     "text": [
      "Data [23, 43, 23, 54, 74, 32, 68, 98, 45, 32]\n",
      "Mean  49.2\n",
      "Varience  539.36\n",
      "Std Deviation  23.224125387191656\n"
     ]
    }
   ],
   "source": [
    "print(\"Data\",age_list)\n",
    "print(\"Mean \",np.mean(age_list))\n",
    "print(\"Varience \",np.var(age_list))\n",
    "print(\"Std Deviation \",np.std(age_list))"
   ]
  },
  {
   "cell_type": "code",
   "execution_count": 8,
   "id": "6d241a6c-f54a-4898-b78e-18eaa1a518aa",
   "metadata": {},
   "outputs": [
    {
     "data": {
      "text/plain": [
       "<AxesSubplot: ylabel='Count'>"
      ]
     },
     "execution_count": 8,
     "metadata": {},
     "output_type": "execute_result"
    },
    {
     "data": {
      "image/png": "[encoded data removed]",
      "text/plain": [
       "<Figure size 640x480 with 1 Axes>"
      ]
     },
     "metadata": {},
     "output_type": "display_data"
    }
   ],
   "source": [
    "import seaborn as sns\n",
    "sns.histplot(age_list,kde=True)"
   ]
  },
  {
   "cell_type": "code",
   "execution_count": 12,
   "id": "edece36f-c799-4fdb-ad2e-d0aba38f9268",
   "metadata": {},
   "outputs": [
    {
     "data": {
      "text/html": [
       "<div>\n",
       "<style scoped>\n",
       "    .dataframe tbody tr th:only-of-type {\n",
       "        vertical-align: middle;\n",
       "    }\n",
       "\n",
       "    .dataframe tbody tr th {\n",
       "        vertical-align: top;\n",
       "    }\n",
       "\n",
       "    .dataframe thead th {\n",
       "        text-align: right;\n",
       "    }\n",
       "</style>\n",
       "<table border=\"1\" class=\"dataframe\">\n",
       "  <thead>\n",
       "    <tr style=\"text-align: right;\">\n",
       "      <th></th>\n",
       "      <th>A</th>\n",
       "      <th>B</th>\n",
       "      <th>C</th>\n",
       "    </tr>\n",
       "  </thead>\n",
       "  <tbody>\n",
       "    <tr>\n",
       "      <th>0</th>\n",
       "      <td>10</td>\n",
       "      <td>12</td>\n",
       "      <td>13</td>\n",
       "    </tr>\n",
       "    <tr>\n",
       "      <th>1</th>\n",
       "      <td>34</td>\n",
       "      <td>23</td>\n",
       "      <td>45</td>\n",
       "    </tr>\n",
       "    <tr>\n",
       "      <th>2</th>\n",
       "      <td>32</td>\n",
       "      <td>34</td>\n",
       "      <td>21</td>\n",
       "    </tr>\n",
       "  </tbody>\n",
       "</table>\n",
       "</div>"
      ],
      "text/plain": [
       "    A   B   C\n",
       "0  10  12  13\n",
       "1  34  23  45\n",
       "2  32  34  21"
      ]
     },
     "execution_count": 12,
     "metadata": {},
     "output_type": "execute_result"
    }
   ],
   "source": [
    "import pandas as pd\n",
    "data=[[10,12,13],[34,23,45],[32,34,21]]\n",
    "df=pd.DataFrame(data,columns=[\"A\",\"B\",\"C\"])\n",
    "df.head()"
   ]
  },
  {
   "cell_type": "code",
   "execution_count": 17,
   "id": "dd495be9-d8b9-41d3-9d32-a36f6afbccb4",
   "metadata": {},
   "outputs": [
    {
     "name": "stdout",
     "output_type": "stream",
     "text": [
      "Var\n",
      " A    177.333333\n",
      "B    121.000000\n",
      "C    277.333333\n",
      "dtype: float64\n"
     ]
    }
   ],
   "source": [
    "print(\"Var\\n\", df.var()) # Axis is 0, Column wise "
   ]
  },
  {
   "cell_type": "code",
   "execution_count": 16,
   "id": "8142fea6-75e7-4f74-b058-3973fbed0d42",
   "metadata": {},
   "outputs": [
    {
     "name": "stdout",
     "output_type": "stream",
     "text": [
      "Varience\n",
      " 0      2.333333\n",
      "1    121.000000\n",
      "2     49.000000\n",
      "dtype: float64\n"
     ]
    }
   ],
   "source": [
    "print(\"Varience\\n\", df.var(axis=1)) # Axis is 1, row wise \n"
   ]
  },
  {
   "cell_type": "code",
   "execution_count": null,
   "id": "94afc773-ea7f-4a04-b6fe-a687ac62dfec",
   "metadata": {},
   "outputs": [],
   "source": []
  }
 ],
 "metadata": {
  "kernelspec": {
   "display_name": "Python 3 (ipykernel)",
   "language": "python",
   "name": "python3"
  },
  "language_info": {
   "codemirror_mode": {
    "name": "ipython",
    "version": 3
   },
   "file_extension": ".py",
   "mimetype": "text/x-python",
   "name": "python",
   "nbconvert_exporter": "python",
   "pygments_lexer": "ipython3",
   "version": "3.10.8"
  }
 },
 "nbformat": 4,
 "nbformat_minor": 5
}

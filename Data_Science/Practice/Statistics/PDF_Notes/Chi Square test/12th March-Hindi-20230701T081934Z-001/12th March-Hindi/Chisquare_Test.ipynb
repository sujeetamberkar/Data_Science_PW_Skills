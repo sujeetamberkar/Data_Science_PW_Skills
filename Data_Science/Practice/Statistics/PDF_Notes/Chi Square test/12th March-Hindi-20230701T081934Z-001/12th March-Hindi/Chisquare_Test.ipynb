{
 "cells": [
  {
   "cell_type": "markdown",
   "id": "fd90326b-0445-4ce3-8250-06e47ffbfb45",
   "metadata": {},
   "source": [
    "# Chi square test "
   ]
  },
  {
   "cell_type": "code",
   "execution_count": 2,
   "id": "b5cdaff2-c3a7-4d48-9d2c-4bb1841149b2",
   "metadata": {},
   "outputs": [],
   "source": [
    "import scipy.stats as stat\n",
    "import numpy as np "
   ]
  },
  {
   "cell_type": "code",
   "execution_count": 7,
   "id": "771d3550-3261-466a-920f-3fc8154cbab7",
   "metadata": {},
   "outputs": [
    {
     "name": "stdout",
     "output_type": "stream",
     "text": [
      "52\n"
     ]
    },
    {
     "data": {
      "text/plain": [
       "52"
      ]
     },
     "execution_count": 7,
     "metadata": {},
     "output_type": "execute_result"
    }
   ],
   "source": [
    "expected_data=[8,6,7,9,6,9,7]\n",
    "observed_data=[7,7,5,9,9,8,7]\n",
    "print(sum(observed_data))\n",
    "sum(expected_data)"
   ]
  },
  {
   "cell_type": "code",
   "execution_count": 11,
   "id": "e33cafcf-f23f-42a6-b136-f2be550ba9fd",
   "metadata": {},
   "outputs": [
    {
     "name": "stdout",
     "output_type": "stream",
     "text": [
      "chisquare_test_statistics  2.4742063492063493\n",
      "P value  0.8713431435915093\n"
     ]
    }
   ],
   "source": [
    "chisquare_test_statistics,p_value=stat.chisquare(observed_data,expected_data)\n",
    "print(\"chisquare_test_statistics \",chisquare_test_statistics)\n",
    "print(\"P value \",p_value)"
   ]
  },
  {
   "cell_type": "code",
   "execution_count": 12,
   "id": "6a5e212d-919b-482c-a68d-fa7c3b39fa75",
   "metadata": {},
   "outputs": [
    {
     "name": "stdout",
     "output_type": "stream",
     "text": [
      "Degree of freedom  6\n",
      "critical value  12.591587243743977\n"
     ]
    }
   ],
   "source": [
    "# Find critical value \n",
    "significance_value=0.05\n",
    "dof=len(expected_data)-1\n",
    "print(\"Degree of freedom \",dof)\n",
    "critical_value=stat.chi2.ppf(1-significance_value,dof)\n",
    "print(\"critical value \",critical_value)"
   ]
  },
  {
   "cell_type": "code",
   "execution_count": null,
   "id": "a9b451be-023e-422d-989d-a4f48d7ae664",
   "metadata": {},
   "outputs": [],
   "source": [
    "if chisquare_test_statistics > critical_value:\n",
    "    print (\"We reject the Null Hypothesis\")\n",
    "else :\n",
    "    print(\"We fail to reject the null hypothesis\")"
   ]
  }
 ],
 "metadata": {
  "kernelspec": {
   "display_name": "Python 3 (ipykernel)",
   "language": "python",
   "name": "python3"
  },
  "language_info": {
   "codemirror_mode": {
    "name": "ipython",
    "version": 3
   },
   "file_extension": ".py",
   "mimetype": "text/x-python",
   "name": "python",
   "nbconvert_exporter": "python",
   "pygments_lexer": "ipython3",
   "version": "3.10.8"
  }
 },
 "nbformat": 4,
 "nbformat_minor": 5
}

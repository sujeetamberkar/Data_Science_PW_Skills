{
 "cells": [
  {
   "cell_type": "markdown",
   "id": "1558e500-feef-47c0-83bd-ea2fcecdd772",
   "metadata": {},
   "source": [
    "# F test with Python"
   ]
  },
  {
   "cell_type": "code",
   "execution_count": 20,
   "id": "0326a991-4ba9-4b64-a268-7280f5949f44",
   "metadata": {},
   "outputs": [],
   "source": [
    "# Evidence to say that two population are not equal \n",
    "\n",
    "worker1=[18,19,22,15,27,28,41,45,51,55]\n",
    "worker2=[14,15,15,17,18,22,25,25,27,34]"
   ]
  },
  {
   "cell_type": "code",
   "execution_count": 21,
   "id": "67396d6d-621f-4b64-a53f-baf7d343fd0a",
   "metadata": {},
   "outputs": [
    {
     "name": "stdout",
     "output_type": "stream",
     "text": [
      "F test  5.0440563086548496\n"
     ]
    }
   ],
   "source": [
    "import numpy as np \n",
    "f_test=np.var(worker1)/np.var(worker2)\n",
    "print(\"F test \", f_test)"
   ]
  },
  {
   "cell_type": "code",
   "execution_count": 22,
   "id": "059a471a-d355-47d4-bc32-5922a137b6c1",
   "metadata": {},
   "outputs": [
    {
     "name": "stdout",
     "output_type": "stream",
     "text": [
      "Degree of freedom 1 : 9\n",
      "Degree of freedom 2 : 9\n",
      "Significance value : 0.0001\n"
     ]
    }
   ],
   "source": [
    "# Degree of freedom \n",
    "df1=len(worker1)-1\n",
    "df2=len(worker2)-1\n",
    "significance_value =0.0001\n",
    "\n",
    "print(\"Degree of freedom 1 :\",df1)\n",
    "print(\"Degree of freedom 2 :\",df2)\n",
    "print(\"Significance value :\",significance_value)"
   ]
  },
  {
   "cell_type": "code",
   "execution_count": 23,
   "id": "8b71b33a-9f4f-492f-9a70-0029354cfdff",
   "metadata": {},
   "outputs": [
    {
     "name": "stdout",
     "output_type": "stream",
     "text": [
      "17.998523535534016\n"
     ]
    }
   ],
   "source": [
    "import scipy.stats as stat\n",
    "critical_value=stat.f.ppf(q=1-significance_value,dfn=df1,dfd=df2)\n",
    "print(critical_value)"
   ]
  },
  {
   "cell_type": "code",
   "execution_count": 24,
   "id": "7189d066-3bd0-4ede-b5c9-c689601beb63",
   "metadata": {},
   "outputs": [
    {
     "name": "stdout",
     "output_type": "stream",
     "text": [
      "We fail to reject the null Hypothesis\n"
     ]
    }
   ],
   "source": [
    "if f_test > critical_value:\n",
    "    print(\"We reject the Null Hypothesis\")\n",
    "else :\n",
    "    print(\"We fail to reject the null Hypothesis\")"
   ]
  },
  {
   "cell_type": "code",
   "execution_count": 25,
   "id": "d5eeece9-4698-41fa-a1c1-01ddac2dfe01",
   "metadata": {},
   "outputs": [],
   "source": [
    "# Thus Both the performance are different "
   ]
  },
  {
   "cell_type": "code",
   "execution_count": null,
   "id": "c6f170d3-5abb-485f-a647-31f6f02b4d1f",
   "metadata": {},
   "outputs": [],
   "source": []
  }
 ],
 "metadata": {
  "kernelspec": {
   "display_name": "Python 3 (ipykernel)",
   "language": "python",
   "name": "python3"
  },
  "language_info": {
   "codemirror_mode": {
    "name": "ipython",
    "version": 3
   },
   "file_extension": ".py",
   "mimetype": "text/x-python",
   "name": "python",
   "nbconvert_exporter": "python",
   "pygments_lexer": "ipython3",
   "version": "3.10.8"
  }
 },
 "nbformat": 4,
 "nbformat_minor": 5
}

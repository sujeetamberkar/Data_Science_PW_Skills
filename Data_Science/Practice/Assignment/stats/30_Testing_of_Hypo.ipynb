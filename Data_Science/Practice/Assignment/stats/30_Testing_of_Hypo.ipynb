{
 "cells": [
  {
   "cell_type": "code",
   "execution_count": 1,
   "id": "46ba5946-dfd2-436d-8805-643e81a96b9d",
   "metadata": {},
   "outputs": [
    {
     "data": {
      "text/plain": [
       "\"\\nEstimation statistics involves making estimates or guesses about a population parameter (e.g. mean, median, proportion) \\nbased on information in a sample. There are two types of estimates:\\n\\nPoint Estimate: It's a single value estimate of a parameter. For example, if we're estimating the average height \\n                of adults in a city based on a sample, the sample mean height is the point estimate.\\n\\nInterval Estimate: It gives a range of values within which the parameter is likely to lie. \\n                   It also provides a degree of uncertainty around point estimates. For instance, \\n                   a confidence interval is an interval estimate.\\n\""
      ]
     },
     "execution_count": 1,
     "metadata": {},
     "output_type": "execute_result"
    }
   ],
   "source": [
    "# Q1: What is Estimation Statistics? Explain point estimate and interval estimate.\n",
    "\"\"\"\n",
    "Estimation statistics involves making estimates or guesses about a population parameter (e.g. mean, median, proportion) \n",
    "based on information in a sample. There are two types of estimates:\n",
    "\n",
    "Point Estimate: It's a single value estimate of a parameter. For example, if we're estimating the average height \n",
    "                of adults in a city based on a sample, the sample mean height is the point estimate.\n",
    "\n",
    "Interval Estimate: It gives a range of values within which the parameter is likely to lie. \n",
    "                   It also provides a degree of uncertainty around point estimates. For instance, \n",
    "                   a confidence interval is an interval estimate.\n",
    "\"\"\""
   ]
  },
  {
   "cell_type": "code",
   "execution_count": 2,
   "id": "5c8a44c3-917f-481e-afed-99b661e77aff",
   "metadata": {},
   "outputs": [],
   "source": [
    "# Q2. Write a Python function to estimate the population mean using a sample mean and standard deviation.\n",
    "import math\n",
    "import scipy.stats as stats\n",
    "\n",
    "def estimate_pop_mean(samples, confidence_level=0.95):\n",
    "    # calculate the sample mean and standard deviation\n",
    "    sample_mean = sum(samples) / len(samples)\n",
    "    sample_std = math.sqrt(sum([(x - sample_mean)**2 for x in samples]) / (len(samples) - 1))\n",
    "\n",
    "    # calculate the t-value for the desired level of confidence and degrees of freedom\n",
    "    alpha = 1 - confidence_level\n",
    "    dof = len(samples) - 1\n",
    "    t_value = stats.t.ppf(1 - alpha/2, dof)\n",
    "\n",
    "    # calculate the standard error and margin of error\n",
    "    std_error = sample_std / math.sqrt(len(samples))\n",
    "    margin_of_error = t_value * std_error\n",
    "\n",
    "    # calculate the confidence interval bounds\n",
    "    lower_bound = sample_mean - margin_of_error\n",
    "    upper_bound = sample_mean + margin_of_error\n",
    "\n",
    "    # return the confidence interval as a tuple\n",
    "    return (lower_bound, upper_bound)\n"
   ]
  },
  {
   "cell_type": "code",
   "execution_count": 4,
   "id": "5ffb6815-be71-471d-ae89-329d8bc93662",
   "metadata": {},
   "outputs": [
    {
     "data": {
      "text/plain": [
       "\"\\nHypothesis testing is a statistical method used to make inferences or draw conclusions \\nabout a population based on a sample. It's used to validate or refute a claim or assumption (hypothesis)\\nabout a parameter of the population. Importance:\\n\\n    1)It provides a structured method to draw conclusions from data.\\n    2)It helps in decision making.\\n    3)It can help identify new trends or patterns in data.\\n\""
      ]
     },
     "execution_count": 4,
     "metadata": {},
     "output_type": "execute_result"
    }
   ],
   "source": [
    "# Q3: What is Hypothesis testing? Why is it used? State the importance of Hypothesis testing.\n",
    "\"\"\"\n",
    "Hypothesis testing is a statistical method used to make inferences or draw conclusions \n",
    "about a population based on a sample. It's used to validate or refute a claim or assumption (hypothesis)\n",
    "about a parameter of the population. Importance:\n",
    "\n",
    "    1)It provides a structured method to draw conclusions from data.\n",
    "    2)It helps in decision making.\n",
    "    3)It can help identify new trends or patterns in data.\n",
    "\"\"\"\n"
   ]
  },
  {
   "cell_type": "code",
   "execution_count": 5,
   "id": "bab4adab-1592-44dd-8165-f6c1ced6f5be",
   "metadata": {},
   "outputs": [
    {
     "data": {
      "text/plain": [
       "'\\nH₀: The average weight of male college students is equal to the average weight of female college students (µm = µf)\\nH₁: The average weight of male college students is greater than the average weight of female college students (µm > µf)\\n'"
      ]
     },
     "execution_count": 5,
     "metadata": {},
     "output_type": "execute_result"
    }
   ],
   "source": [
    "# Q4. Create a hypothesis that states whether the average weight of male college students is \n",
    "#     greater than the average weight of female college students.\n",
    "\"\"\"\n",
    "H₀: The average weight of male college students is equal to the average weight of female college students (µm = µf)\n",
    "H₁: The average weight of male college students is greater than the average weight of female college students (µm > µf)\n",
    "\"\"\""
   ]
  },
  {
   "cell_type": "code",
   "execution_count": 7,
   "id": "7b591f14-349b-40fd-9488-dfff92e63efe",
   "metadata": {},
   "outputs": [
    {
     "name": "stdout",
     "output_type": "stream",
     "text": [
      "Reject null hypothesis\n"
     ]
    }
   ],
   "source": [
    "# Q5. Write a Python script to conduct a hypothesis test on the difference between two population means, \n",
    "#     given a sample from each population.\n",
    "\n",
    "from scipy import stats\n",
    "\n",
    "def hypothesis_test(sample1, sample2, alpha=0.05):\n",
    "    t_stat, p_val = stats.ttest_ind(sample1, sample2)\n",
    "    if p_val < alpha:\n",
    "        print('Reject null hypothesis')\n",
    "    else:\n",
    "        print('Do not reject null hypothesis')\n",
    "\n",
    "# Example usage\n",
    "hypothesis_test([5, 6, 7, 8, 9], [10, 11, 12, 13, 14])\n"
   ]
  },
  {
   "cell_type": "code",
   "execution_count": 8,
   "id": "dfa303eb-41e9-4e7c-8dfc-6a954ef3c6f8",
   "metadata": {},
   "outputs": [
    {
     "data": {
      "text/plain": [
       "\"\\n    Null Hypothesis (H₀): This is a statement of no effect or no difference. \\n                          It's the hypothesis that you want to disprove.\\n                          Example: There's no significant difference between the mean grades of two classes.\\n\\n    Alternative Hypothesis (H₁): This is a statement that contradicts the null hypothesis, \\n                                 indicating some effect or difference.\\n                                 Example: The mean grade of class A is higher than class B.\\n\""
      ]
     },
     "execution_count": 8,
     "metadata": {},
     "output_type": "execute_result"
    }
   ],
   "source": [
    "# Q6: What is a null and alternative hypothesis? Give some examples.\n",
    "\"\"\"\n",
    "    Null Hypothesis (H₀): This is a statement of no effect or no difference. \n",
    "                          It's the hypothesis that you want to disprove.\n",
    "                          Example: There's no significant difference between the mean grades of two classes.\n",
    "\n",
    "    Alternative Hypothesis (H₁): This is a statement that contradicts the null hypothesis, \n",
    "                                 indicating some effect or difference.\n",
    "                                 Example: The mean grade of class A is higher than class B.\n",
    "\"\"\""
   ]
  },
  {
   "cell_type": "code",
   "execution_count": 9,
   "id": "6dffa4f4-904a-451e-858e-e24a6dfb86d1",
   "metadata": {},
   "outputs": [
    {
     "data": {
      "text/plain": [
       "'\\n    1)Formulate the null and alternative hypotheses.\\n    2)Choose the significance level (alpha).\\n    3)Determine the test statistic based on the type of test.\\n    4)Calculate the test statistic and the p-value.\\n    5)Compare the p-value with the significance level and decide whether to reject the null hypothesis.\\n'"
      ]
     },
     "execution_count": 9,
     "metadata": {},
     "output_type": "execute_result"
    }
   ],
   "source": [
    "# Q7: Write down the steps involved in hypothesis testing.\n",
    "\"\"\"\n",
    "    1)Formulate the null and alternative hypotheses.\n",
    "    2)Choose the significance level (alpha).\n",
    "    3)Determine the test statistic based on the type of test.\n",
    "    4)Calculate the test statistic and the p-value.\n",
    "    5)Compare the p-value with the significance level and decide whether to reject the null hypothesis.\n",
    "\"\"\""
   ]
  },
  {
   "cell_type": "code",
   "execution_count": 10,
   "id": "09b29c3b-e9ca-4c8f-9642-01508a6dbfc6",
   "metadata": {},
   "outputs": [
    {
     "data": {
      "text/plain": [
       "'\\nThe p-value is the probability of obtaining the observed data (or data more extreme) if the null hypothesis is true.\\nA smaller p-value (< alpha) suggests that the null hypothesis is unlikely and we reject it. \\nIf p-value is larger, we do not reject the null hypothesis.\\n'"
      ]
     },
     "execution_count": 10,
     "metadata": {},
     "output_type": "execute_result"
    }
   ],
   "source": [
    "# Q8. Define p-value and explain its significance in hypothesis testing.\n",
    "\"\"\"\n",
    "The p-value is the probability of obtaining the observed data (or data more extreme) if the null hypothesis is true.\n",
    "A smaller p-value (< alpha) suggests that the null hypothesis is unlikely and we reject it. \n",
    "If p-value is larger, we do not reject the null hypothesis.\n",
    "\"\"\""
   ]
  },
  {
   "cell_type": "code",
   "execution_count": 11,
   "id": "891fe0c8-44d5-479f-9872-0e7b90371598",
   "metadata": {},
   "outputs": [
    {
     "data": {
      "image/png": "[encoded data removed]",
      "text/plain": [
       "<Figure size 640x480 with 1 Axes>"
      ]
     },
     "metadata": {},
     "output_type": "display_data"
    }
   ],
   "source": [
    "# Q9. Generate a Student's t-distribution plot using Python's matplotlib library,\n",
    "# with the degrees of freedom parameter set to 10.\n",
    "import matplotlib.pyplot as plt\n",
    "import numpy as np\n",
    "from scipy.stats import t\n",
    "\n",
    "df = 10\n",
    "x = np.linspace(t.ppf(0.01, df), t.ppf(0.99, df), 100)\n",
    "plt.plot(x, t.pdf(x, df), 'r-', lw=5, label='t pdf')\n",
    "plt.title(\"Student's t-distribution\")\n",
    "plt.show()\n",
    "\n"
   ]
  },
  {
   "cell_type": "code",
   "execution_count": 12,
   "id": "1bf82914-e8c4-459a-9953-18c1a37e2748",
   "metadata": {},
   "outputs": [
    {
     "name": "stdout",
     "output_type": "stream",
     "text": [
      "Reject null hypothesis\n"
     ]
    }
   ],
   "source": [
    "# Q10. Write a Python program to calculate the two-sample t-test for independent samples, given two random samples of equal\n",
    "#      size and a null hypothesis that the population means are equal.\n",
    "from scipy.stats import ttest_ind\n",
    "\n",
    "def two_sample_ttest(sample1, sample2, alpha=0.05):\n",
    "    t_stat, p_val = ttest_ind(sample1, sample2)\n",
    "    if p_val < alpha:\n",
    "        print('Reject null hypothesis')\n",
    "    else:\n",
    "        print('Do not reject null hypothesis')\n",
    "\n",
    "# Example usage\n",
    "two_sample_ttest([5, 6, 7, 8, 9], [10, 11, 12, 13, 14])\n"
   ]
  },
  {
   "cell_type": "code",
   "execution_count": 13,
   "id": "71d33802-2658-41c2-9878-8e8b10b52b4a",
   "metadata": {},
   "outputs": [
    {
     "data": {
      "text/plain": [
       "'\\nStudent\\'s t-distribution, also known as the t-distribution, is a probability distribution that is used to estimate the\\nmean of a normally distributed population when the sample size is small and/or the population standard deviation \\nis unknown. It was first introduced by William Sealy Gosset in 1908, who published under the pseudonym \"Student\"\\n\\nThe t-distribution looks similar to a normal distribution, but it has heavier tails and is more spread out. \\nThe shape of the t-distribution depends on a parameter known as degrees of freedom (df),which is related to the sample size.\\n\\nIn general, the t-distribution is used in hypothesis testing and confidence interval estimation when the sample size is small (less than 30) or the population standard deviation is unknown. It allows us to make inferences about the population mean based on a small sample of data. The t-distribution is commonly used in a variety of fields, including statistics, engineering, and social sciences.\\nSpecifically, we use the t-distribution when:\\nThe sample size is small (less than 30).\\n\\n\\n'"
      ]
     },
     "execution_count": 13,
     "metadata": {},
     "output_type": "execute_result"
    }
   ],
   "source": [
    "# Q11 : What is Student’s t distribution? When to use the t-Distribution?\n",
    "\"\"\"\n",
    "Student's t-distribution, also known as the t-distribution, is a probability distribution that is used to estimate the\n",
    "mean of a normally distributed population when the sample size is small and/or the population standard deviation \n",
    "is unknown. It was first introduced by William Sealy Gosset in 1908, who published under the pseudonym \"Student\"\n",
    "\n",
    "The t-distribution looks similar to a normal distribution, but it has heavier tails and is more spread out. \n",
    "The shape of the t-distribution depends on a parameter known as degrees of freedom (df),which is related to the sample size.\n",
    "\n",
    "In general, the t-distribution is used in hypothesis testing and confidence interval estimation when the sample size is small (less than 30) or the population standard deviation is unknown. It allows us to make inferences about the population mean based on a small sample of data. The t-distribution is commonly used in a variety of fields, including statistics, engineering, and social sciences.\n",
    "Specifically, we use the t-distribution when:\n",
    "The sample size is small (less than 30).\n",
    "\n",
    "\n",
    "\"\"\""
   ]
  },
  {
   "cell_type": "code",
   "execution_count": 14,
   "id": "161d320a-9864-4df4-a2a1-0671177b4645",
   "metadata": {},
   "outputs": [
    {
     "data": {
      "text/plain": [
       "\"\\nThe t-statistic is a measure of the difference between the sample mean and the hypothesized population mean in units of standard error. It's used when population standard deviation is unknown. Formula:\\nt = (x̄ - µ₀) / (s / √n)\\n\\nWhere:\\nx̄ is the sample mean\\nµ₀ is the hypothesized population mean\\ns is the sample standard deviation\\nn is the sample size\\n\""
      ]
     },
     "execution_count": 14,
     "metadata": {},
     "output_type": "execute_result"
    }
   ],
   "source": [
    "# Q12: What is t-statistic? State the formula for t-statistic.\n",
    "\n",
    "\"\"\"\n",
    "The t-statistic is a measure of the difference between the sample mean and the hypothesized population mean in units of standard error. It's used when population standard deviation is unknown. Formula:\n",
    "t = (x̄ - µ₀) / (s / √n)\n",
    "\n",
    "Where:\n",
    "x̄ is the sample mean\n",
    "µ₀ is the hypothesized population mean\n",
    "s is the sample standard deviation\n",
    "n is the sample size\n",
    "\"\"\""
   ]
  },
  {
   "cell_type": "code",
   "execution_count": 16,
   "id": "3d6dc584-e5dd-4337-8143-91a90fca3918",
   "metadata": {},
   "outputs": [
    {
     "name": "stdout",
     "output_type": "stream",
     "text": [
      "The 95% confidence interval for the population mean revenue is: ($505.79, $534.21)\n"
     ]
    }
   ],
   "source": [
    "# Q13. A coffee shop owner wants to estimate the average daily revenue for their shop. They take a random\n",
    "#      sample of 50 days and find the sample mean revenue to be $500 with a standard deviation of $50.\n",
    "#      Estimate the population mean revenue with a 95% confidence interval.\n",
    "import math\n",
    "import scipy.stats as stats\n",
    "\n",
    "# Sample statistics\n",
    "sample_mean = 520\n",
    "sample_std = 55\n",
    "sample_size = 60\n",
    "\n",
    "# Significance level\n",
    "alpha = 0.05\n",
    "\n",
    "# Degrees of freedom\n",
    "dof = sample_size - 1\n",
    "\n",
    "# t-value for two-tailed test\n",
    "t_value = stats.t.ppf(1 - alpha/2, dof)\n",
    "\n",
    "# Standard error\n",
    "std_error = sample_std / math.sqrt(sample_size)\n",
    "\n",
    "# Margin of error\n",
    "margin_of_error = t_value * std_error\n",
    "\n",
    "# Confidence interval\n",
    "lower_bound = sample_mean - margin_of_error\n",
    "upper_bound = sample_mean + margin_of_error\n",
    "\n",
    "print(f\"The 95% confidence interval for the population mean revenue is: (${lower_bound:.2f}, ${upper_bound:.2f})\")\n"
   ]
  },
  {
   "cell_type": "code",
   "execution_count": 19,
   "id": "38f02e17-01a8-43b5-af9c-e11ed531b1a4",
   "metadata": {},
   "outputs": [
    {
     "name": "stdout",
     "output_type": "stream",
     "text": [
      "t-statistic: -6.666666666666667\n",
      "p-value: 1.5012289009970215e-09\n",
      "Reject the null hypothesis. Evidence supports that the drug decreases blood pressure by less than 10 mmHg.\n"
     ]
    }
   ],
   "source": [
    "# Q14. A researcher hypothesizes that a new drug will decrease blood pressure by 10 mmHg. They conduct a\n",
    "#      clinical trial with 100 patients and find that the sample mean decrease in blood pressure is 8 mmHg with a\n",
    "#      standard deviation of 3 mmHg. Test the hypothesis with a significance level of 0.05.\n",
    "\n",
    "import math\n",
    "from scipy.stats import t\n",
    "\n",
    "n = 100\n",
    "sample_mean = 8\n",
    "sample_std = 3\n",
    "pop_mean = 10\n",
    "\n",
    "t_statistic = (sample_mean - pop_mean) / (sample_std / math.sqrt(n))\n",
    "p_value = t.sf(np.abs(t_statistic), n-1)*2  # two-sided\n",
    "\n",
    "print(f\"t-statistic: {t_statistic}\\np-value: {p_value}\")\n",
    "\n",
    "if p_value < 0.05:\n",
    "    print(\"Reject the null hypothesis. Evidence supports that the drug decreases blood pressure by less than 10 mmHg.\")\n",
    "else:\n",
    "    print(\"Fail to reject the null hypothesis. There is not enough evidence to support that the drug decreases blood pressure by less than 10 mmHg.\")\n"
   ]
  },
  {
   "cell_type": "code",
   "execution_count": 21,
   "id": "07282816-0059-498a-b5f8-284b3c728d6e",
   "metadata": {},
   "outputs": [
    {
     "name": "stdout",
     "output_type": "stream",
     "text": [
      "t-statistic: -2.0000000000000018\n",
      "p-value: 0.02846992496829572\n",
      "Fail to reject the null hypothesis. There is not enough evidence to support that the mean weight of the products is less than 5 pounds.\n"
     ]
    }
   ],
   "source": [
    "\"\"\"\n",
    "Q15. An electronics company produces a certain type of product with a mean weight of 5 pounds and a\n",
    "standard deviation of 0.5 pounds. A random sample of 25 products is taken, and the sample mean weight\n",
    "is found to be 4.8 pounds. Test the hypothesis that the true mean weight of the products is less than 5\n",
    "pounds with a significance level of 0.01.\n",
    "\"\"\"\n",
    "\n",
    "n = 25\n",
    "sample_mean = 4.8\n",
    "pop_mean = 5\n",
    "pop_std = 0.5\n",
    "\n",
    "t_statistic = (sample_mean - pop_mean) / (pop_std / math.sqrt(n))\n",
    "p_value = t.sf(np.abs(t_statistic), n-1)  # one-sided\n",
    "\n",
    "print(f\"t-statistic: {t_statistic}\\np-value: {p_value}\")\n",
    "\n",
    "if p_value < 0.01:\n",
    "    print(\"Reject the null hypothesis. Evidence supports that the mean weight of the products is less than 5 pounds.\")\n",
    "else:\n",
    "    print(\"Fail to reject the null hypothesis. There is not enough evidence to support that the mean weight of the products is less than 5 pounds.\")\n"
   ]
  },
  {
   "cell_type": "code",
   "execution_count": 22,
   "id": "81e488b6-fe4d-4c4d-8a32-3ff925e385d7",
   "metadata": {},
   "outputs": [
    {
     "name": "stdout",
     "output_type": "stream",
     "text": [
      "t-statistic: 2.323967729699292\n",
      "p-value: 0.02312301341372599\n",
      "Fail to reject the null hypothesis. There is not enough evidence to support that the population means for the two groups are not equal.\n"
     ]
    }
   ],
   "source": [
    "\"\"\"\n",
    "Q16. Two groups of students are given different study materials to prepare for a test. The first group (n1 =30) \n",
    "has a mean score of 80 with a standard deviation of 10, and the second group (n2 = 40) has a mean\n",
    "score of 75 with a standard deviation of 8. Test the hypothesis that the population means for the two\n",
    "groups are equal with a significance level of 0.01.\n",
    "\"\"\"\n",
    "from scipy.stats import ttest_ind_from_stats\n",
    "\n",
    "mean1 = 80\n",
    "std1 = 10\n",
    "nobs1 = 30\n",
    "\n",
    "mean2 = 75\n",
    "std2 = 8\n",
    "nobs2 = 40\n",
    "\n",
    "t_statistic, p_value = ttest_ind_from_stats(mean1=mean1, std1=std1, nobs1=nobs1, mean2=mean2, std2=std2, nobs2=nobs2)\n",
    "\n",
    "print(f\"t-statistic: {t_statistic}\\np-value: {p_value}\")\n",
    "\n",
    "if p_value < 0.01:\n",
    "    print(\"Reject the null hypothesis. Evidence supports that the population means for the two groups are not equal.\")\n",
    "else:\n",
    "    print(\"Fail to reject the null hypothesis. There is not enough evidence to support that the population means for the two groups are not equal.\")\n"
   ]
  },
  {
   "cell_type": "code",
   "execution_count": null,
   "id": "24acb075-989e-4948-8228-c1504db2975c",
   "metadata": {},
   "outputs": [],
   "source": [
    "\"\"\"\n",
    "Q17. A marketing company wants to estimate the average number of ads watched by viewers during a TV\n",
    "program. They take a random sample of 50 viewers and find that the sample mean is 4 with a standard\n",
    "deviation of 1.5. Estimate the population mean with a 99% confidence interval.\n",
    "\"\"\"\n",
    "from scipy import stats\n",
    "\n",
    "sample_mean = 4\n",
    "sample_std = 1.5\n",
    "n = 50\n",
    "confidence = 0.99\n",
    "\n",
    "t_critical = stats.t.ppf((1 + confidence) / 2, df = n - 1)\n",
    "margin_of_error = t_critical * (sample_std / np.sqrt(n))\n",
    "\n",
    "confidence_interval = (sample_mean - margin_of_error, sample_mean + margin_of_error)\n",
    "\n",
    "print(f\"The 99% confidence interval for the population mean number of ads watched is {confidence_interval}.\")\n"
   ]
  },
  {
   "cell_type": "code",
   "execution_count": null,
   "id": "cbde464a-1e53-42f8-8812-1ba81237e7ef",
   "metadata": {},
   "outputs": [],
   "source": []
  }
 ],
 "metadata": {
  "kernelspec": {
   "display_name": "Python 3 (ipykernel)",
   "language": "python",
   "name": "python3"
  },
  "language_info": {
   "codemirror_mode": {
    "name": "ipython",
    "version": 3
   },
   "file_extension": ".py",
   "mimetype": "text/x-python",
   "name": "python",
   "nbconvert_exporter": "python",
   "pygments_lexer": "ipython3",
   "version": "3.10.8"
  }
 },
 "nbformat": 4,
 "nbformat_minor": 5
}
